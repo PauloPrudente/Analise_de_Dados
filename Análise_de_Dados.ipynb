{
  "nbformat": 4,
  "nbformat_minor": 0,
  "metadata": {
    "colab": {
      "name": "Análise_de_Dados.ipynb",
      "provenance": [],
      "authorship_tag": "ABX9TyPg25+eIBT5aD0HUiD5UdVH",
      "include_colab_link": true
    },
    "kernelspec": {
      "name": "python3",
      "display_name": "Python 3"
    }
  },
  "cells": [
    {
      "cell_type": "markdown",
      "metadata": {
        "id": "view-in-github",
        "colab_type": "text"
      },
      "source": [
        "<a href=\"https://colab.research.google.com/github/PauloPrudente/Analise_de_Dados/blob/main/An%C3%A1lise_de_Dados.ipynb\" target=\"_parent\"><img src=\"https://colab.research.google.com/assets/colab-badge.svg\" alt=\"Open In Colab\"/></a>"
      ]
    },
    {
      "cell_type": "code",
      "metadata": {
        "id": "YyLXzZdTafxX"
      },
      "source": [
        "import pandas as pd\n",
        "Dados = pd.read_csv('houses_to_rent_v2.csv')"
      ],
      "execution_count": null,
      "outputs": []
    },
    {
      "cell_type": "code",
      "metadata": {
        "id": "jOAW3WSJdAUU"
      },
      "source": [
        "Dados.head(10)"
      ],
      "execution_count": null,
      "outputs": []
    },
    {
      "cell_type": "code",
      "metadata": {
        "id": "MfDILKVXeNnh"
      },
      "source": [
        "! pip install https://github.com/pandas-profiling/pandas-profiling/archive/master.zip"
      ],
      "execution_count": null,
      "outputs": []
    },
    {
      "cell_type": "code",
      "metadata": {
        "id": "pg0vW3iZeXFD"
      },
      "source": [
        "from pandas_profiling import ProfileReport"
      ],
      "execution_count": null,
      "outputs": []
    },
    {
      "cell_type": "code",
      "metadata": {
        "id": "PN0NOhLVenpl"
      },
      "source": [
        "profile = ProfileReport(Dados, title='Dados Alugueis Capitais', html={'style':{'full_width':True}})\n",
        "profile.to_notebook_iframe()"
      ],
      "execution_count": null,
      "outputs": []
    },
    {
      "cell_type": "code",
      "metadata": {
        "id": "L0NxV6FKfKek"
      },
      "source": [
        "profile.to_file(output_file='saida.html')"
      ],
      "execution_count": null,
      "outputs": []
    }
  ]
}