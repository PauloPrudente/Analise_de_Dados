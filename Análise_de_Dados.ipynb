{
  "nbformat": 4,
  "nbformat_minor": 0,
  "metadata": {
    "colab": {
      "name": "Análise_de_Dados.ipynb",
      "provenance": [],
      "authorship_tag": "ABX9TyM3F4e3S0Vw4v/OCovQu2zc",
      "include_colab_link": true
    },
    "kernelspec": {
      "name": "python3",
      "display_name": "Python 3"
    }
  },
  "cells": [
    {
      "cell_type": "markdown",
      "metadata": {
        "id": "view-in-github",
        "colab_type": "text"
      },
      "source": [
        "<a href=\"https://colab.research.google.com/github/PauloPrudente/Analise_de_Dados/blob/main/An%C3%A1lise_de_Dados.ipynb\" target=\"_parent\"><img src=\"https://colab.research.google.com/assets/colab-badge.svg\" alt=\"Open In Colab\"/></a>"
      ]
    },
    {
      "cell_type": "markdown",
      "metadata": {
        "id": "3vgiZRsiZ8CG"
      },
      "source": [
        "https://www.linkedin.com/pulse/seu-primeiro-projeto-em-python-an%C3%A1lise-de-dados-com-pandas-correa/"
      ]
    },
    {
      "cell_type": "code",
      "metadata": {
        "id": "YyLXzZdTafxX"
      },
      "source": [
        "import pandas as pd\n",
        "Dados = pd.read_csv('houses_to_rent_v2.csv')"
      ],
      "execution_count": null,
      "outputs": []
    },
    {
      "cell_type": "code",
      "metadata": {
        "id": "jOAW3WSJdAUU"
      },
      "source": [
        "Dados.head(10)"
      ],
      "execution_count": null,
      "outputs": []
    },
    {
      "cell_type": "code",
      "metadata": {
        "id": "MfDILKVXeNnh"
      },
      "source": [
        "! pip install https://github.com/pandas-profiling/pandas-profiling/archive/master.zip"
      ],
      "execution_count": null,
      "outputs": []
    },
    {
      "cell_type": "code",
      "metadata": {
        "id": "pg0vW3iZeXFD"
      },
      "source": [
        "from pandas_profiling import ProfileReport"
      ],
      "execution_count": null,
      "outputs": []
    },
    {
      "cell_type": "code",
      "metadata": {
        "id": "PN0NOhLVenpl"
      },
      "source": [
        "profile = ProfileReport(Dados, title='Dados Alugueis Capitais', html={'style':{'full_width':True}})\n",
        "profile.to_notebook_iframe()"
      ],
      "execution_count": null,
      "outputs": []
    },
    {
      "cell_type": "code",
      "metadata": {
        "id": "L0NxV6FKfKek"
      },
      "source": [
        "profile.to_file(output_file='saida.html')"
      ],
      "execution_count": null,
      "outputs": []
    }
  ]
}